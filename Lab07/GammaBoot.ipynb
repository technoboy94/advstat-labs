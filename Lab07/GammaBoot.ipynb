{
 "cells": [
  {
   "cell_type": "code",
   "execution_count": 64,
   "metadata": {
    "collapsed": false
   },
   "outputs": [],
   "source": [
    "import os\n",
    "import sys\n",
    "import glob\n",
    "import matplotlib.pyplot as plt\n",
    "import numpy as np\n",
    "import pandas as pd\n",
    "import scipy.stats as st\n",
    "%matplotlib inline\n",
    "%precision 4\n",
    "plt.style.use('ggplot')\n",
    "\n",
    "stat = np.median"
   ]
  },
  {
   "cell_type": "code",
   "execution_count": 65,
   "metadata": {
    "collapsed": false
   },
   "outputs": [],
   "source": [
    "def get_sample(n):\n",
    "    return np.random.gamma(2, 4, n)"
   ]
  },
  {
   "cell_type": "code",
   "execution_count": 66,
   "metadata": {
    "collapsed": false
   },
   "outputs": [
    {
     "name": "stdout",
     "output_type": "stream",
     "text": [
      "DescribeResult(nobs=100, minmax=(0.60940042520260851, 23.79317486171821), mean=6.5450102457975445, variance=21.907277636302819, skewness=1.3241989642720475, kurtosis=1.8689599648716477)\n"
     ]
    },
    {
     "data": {
      "image/png": "[encoded data removed]",
      "text/plain": [
       "<matplotlib.figure.Figure at 0x116b9ec90>"
      ]
     },
     "metadata": {},
     "output_type": "display_data"
    }
   ],
   "source": [
    "np.random.seed(1000)\n",
    "n = 100\n",
    "\n",
    "# sample that contains degrees of the graph\n",
    "x = get_sample(n)\n",
    "\n",
    "print st.describe(x)\n",
    "plt.hist(x, 20, histtype='step');"
   ]
  },
  {
   "cell_type": "code",
   "execution_count": 67,
   "metadata": {
    "collapsed": false
   },
   "outputs": [
    {
     "name": "stdout",
     "output_type": "stream",
     "text": [
      "5.12618596557\n",
      "bias: 0.0476860723136\n",
      "variance: 0.1777962934\n",
      "[ 4.3761  6.0401]\n"
     ]
    },
    {
     "data": {
      "image/png": "[encoded data removed]",
      "text/plain": [
       "<matplotlib.figure.Figure at 0x1169e7890>"
      ]
     },
     "metadata": {},
     "output_type": "display_data"
    }
   ],
   "source": [
    "## bootstrap estimation of statistic \"stat\"\n",
    "# numder of bootstrap replications - B\n",
    "B = 2000\n",
    "\n",
    "# generate bootstrap replications - xb\n",
    "xb = np.random.choice(x, (n, B), replace=True)\n",
    "\n",
    "# calculate \"stat\" on each replication \n",
    "xb_star = stat(xb, axis=0)\n",
    "xb_star.sort()\n",
    "\n",
    "# print results mean value of the statistic \"stat\" and the CI for it\n",
    "print xb_star.mean()\n",
    "ci = np.percentile(xb_star, [2.5, 97.5])\n",
    "\n",
    "plt.hist(xb_star, 20, histtype='step');\n",
    "\n",
    "bias = xb_star.mean() - stat(x)\n",
    "variance = sum((xb_star - sum(xb_star)/B)**2)/ (B-1)\n",
    "\n",
    "print \"bias:\", bias\n",
    "print \"variance:\", variance\n",
    "print ci\n"
   ]
  },
  {
   "cell_type": "code",
   "execution_count": 68,
   "metadata": {
    "collapsed": false
   },
   "outputs": [
    {
     "name": "stdout",
     "output_type": "stream",
     "text": [
      "14.2 %\n",
      "6.70708990466\n"
     ]
    }
   ],
   "source": [
    "# check with sampling from the population (random graphs with n nodes and p=0.155)\n",
    "\n",
    "a = []\n",
    "count = 0\n",
    "total_runs = 1000\n",
    "for i in range(0, total_runs):\n",
    "    # draw a sample    \n",
    "    y = get_sample(n)\n",
    "    \n",
    "    # calculate value of statistic (stat_value)\n",
    "    stat_value = stat(y)\n",
    "    \n",
    "    # if CI contains stat_value\n",
    "    if ci[0]<=stat_value and ci[1]>=stat_value :\n",
    "        count += 1\n",
    "#     else:\n",
    "#         print stat_value\n",
    "    a.append(stat_value)\n",
    "\n",
    "print 100.0*count / total_runs, \"%\"\n",
    "\n",
    "# mean of the sampling distribution\n",
    "print np.mean(a)\n"
   ]
  },
  {
   "cell_type": "code",
   "execution_count": null,
   "metadata": {
    "collapsed": true
   },
   "outputs": [],
   "source": []
  },
  {
   "cell_type": "code",
   "execution_count": null,
   "metadata": {
    "collapsed": true
   },
   "outputs": [],
   "source": []
  }
 ],
 "metadata": {
  "kernelspec": {
   "display_name": "Python 2",
   "language": "python",
   "name": "python2"
  },
  "language_info": {
   "codemirror_mode": {
    "name": "ipython",
    "version": 2
   },
   "file_extension": ".py",
   "mimetype": "text/x-python",
   "name": "python",
   "nbconvert_exporter": "python",
   "pygments_lexer": "ipython2",
   "version": "2.7.13"
  }
 },
 "nbformat": 4,
 "nbformat_minor": 0
}
