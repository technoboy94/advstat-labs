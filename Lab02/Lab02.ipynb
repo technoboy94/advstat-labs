{
 "cells": [
  {
   "cell_type": "markdown",
   "metadata": {},
   "source": [
    "# Lab 02\n",
    "\n",
    "This work will cover the usage of convolution and correlation in signal processing and in statistics.\n",
    "\n",
    "## 1. Convolution and correlation\n",
    "\n",
    "From the point of view of signal processing convolution and correlation are very similar operations. They are defined as following\n",
    "\n",
    "Convolution:\n",
    "$$ (f*g)(y) = \\int\\limits_{-\\infty}^{\\infty} f(x)g(y-x)dx$$\n",
    "Cross-correlation:\n",
    "$$ (f\\star g)(y) = \\int\\limits_{-\\infty}^{\\infty} f(x)g(y+x)dx$$\n",
    "\n",
    "If `g(x)` is symmetric then the convolution and cross-correlation are the same."
   ]
  },
  {
   "cell_type": "markdown",
   "metadata": {},
   "source": [
    "Let's create a numpy array with square-shaped signal."
   ]
  },
  {
   "cell_type": "code",
   "execution_count": null,
   "metadata": {},
   "outputs": [],
   "source": [
    "import numpy as np\n",
    "import matplotlib.pyplot as plt\n",
    "%matplotlib inline\n",
    "N = 100 # sample count\n",
    "startX = 40  \n",
    "endX = 60\n",
    "x = np.arange(N)\n",
    "x = ((x < endX) * (x> startX))*10\n",
    "plt.plot(x);"
   ]
  },
  {
   "cell_type": "markdown",
   "metadata": {},
   "source": [
    "Let's create a triangular signal."
   ]
  },
  {
   "cell_type": "code",
   "execution_count": null,
   "metadata": {},
   "outputs": [],
   "source": [
    "y = np.zeros(100)\n",
    "heightY = 1.0\n",
    "startY = 20\n",
    "endY=80\n",
    "widthY = (endY-startY)/2.0\n",
    "for i in range(startY,N/2):\n",
    " y[i] =  (i-startY) * (heightY / widthY) \n",
    "for i in range(N/2,endY):\n",
    " y[i] = 2*heightY - ((i-startY) * (heightY / widthY))\n",
    "plt.plot(y);"
   ]
  },
  {
   "cell_type": "markdown",
   "metadata": {},
   "source": [
    "Now let's apply two operations on the inputs and compare results."
   ]
  },
  {
   "cell_type": "code",
   "execution_count": null,
   "metadata": {},
   "outputs": [],
   "source": [
    "from scipy.signal import convolve\n",
    "x_conv = convolve(x,y,'same')\n",
    "plt.plot(x_conv);"
   ]
  },
  {
   "cell_type": "code",
   "execution_count": null,
   "metadata": {},
   "outputs": [],
   "source": [
    "from scipy.signal import correlate\n",
    "x_corr = correlate(x,y,'same')\n",
    "plt.plot(x_corr);"
   ]
  },
  {
   "cell_type": "markdown",
   "metadata": {},
   "source": [
    "As you see, the result of convolution for symmetric kernel is the same as result of correlation."
   ]
  },
  {
   "cell_type": "markdown",
   "metadata": {},
   "source": [
    "### Exercise 1\n",
    "Try these two operations with the non-symetric kernel."
   ]
  },
  {
   "cell_type": "code",
   "execution_count": null,
   "metadata": {
    "collapsed": true
   },
   "outputs": [],
   "source": [
    "# your code here"
   ]
  },
  {
   "cell_type": "markdown",
   "metadata": {},
   "source": [
    "## 2. Convolution of distributions\n",
    "In statistics convolution plays important role.\n",
    "\n",
    "The distribution of the *sum of two independent variables* is the convolution of the distributions.\n",
    "\n",
    "I.e. if we consider two independent continuous random variables `X` and `Y` with PDFs `f` and `g` the PDF of their sum (X+Y) will be computed as: \n",
    "\n",
    "$$ d(x) = (f * g)(x) $$"
   ]
  },
  {
   "cell_type": "markdown",
   "metadata": {},
   "source": [
    "We can get an interesting result if we consider the sum of several random variables with identical distributions, i.e. convolution of a distribution with itself several times.\n",
    "2\n",
    "For example, let's take a uniform distribution."
   ]
  },
  {
   "cell_type": "code",
   "execution_count": null,
   "metadata": {
    "collapsed": true
   },
   "outputs": [],
   "source": [
    "%%capture\n",
    "orig = np.random.uniform(0,10,1200)\n",
    "h = plt.hist(orig, bins=120, normed=True);\n",
    "orig = h[0]\n",
    "t = h[1]\n",
    "xconv = np.copy(orig)"
   ]
  },
  {
   "cell_type": "code",
   "execution_count": null,
   "metadata": {},
   "outputs": [],
   "source": [
    "plt.figure(figsize=(20,10))\n",
    "ax = plt.subplot(2, 3, 1)\n",
    "ax.set_title(\"f\")\n",
    "ax.plot(t[:-1], orig);\n",
    "for i in range(5):\n",
    "    xconv = convolve(orig, xconv)\n",
    "    ax = plt.subplot(2, 3, i+2)\n",
    "    ax.set_title((\"f*\"*(i+2))[:-1])\n",
    "    ax.plot(xconv);"
   ]
  },
  {
   "cell_type": "markdown",
   "metadata": {},
   "source": [
    "This is an illustration of Central Limit Theorem: the distribution of the sum of random variables which are iid (independent identically distributed) has a form of a Gaussian."
   ]
  },
  {
   "cell_type": "markdown",
   "metadata": {},
   "source": [
    "## 3. Correlation and covariance\n",
    "\n",
    "In statistics the linear correlation between two variables X and Y can be measured using Pearson correlation coefficient:\n",
    "\n",
    "$$ corr(x,y) = \\frac{\\sum\\limits_{i=1}^n(x_i-\\bar{x})(y_i-\\bar{y})}{\\sqrt {\\sum\\limits_{i=1}^n(x_i-\\bar{x})^2\\sum\\limits_{i=1}^n(y_i-\\bar{y})^2}}$$"
   ]
  },
  {
   "cell_type": "code",
   "execution_count": null,
   "metadata": {},
   "outputs": [],
   "source": [
    "import pandas as pd\n",
    "data = pd.read_csv('examples/brain_size.csv', sep=';', na_values=\".\")\n",
    "data.fillna(data.mean(), inplace=True)\n",
    "data.corr()"
   ]
  },
  {
   "cell_type": "markdown",
   "metadata": {},
   "source": [
    "The unnormalized version of the correlation coefficient is the measure of joint variability - **covariance**.\n",
    "$$ cov(x,y) = \\frac{1}{n-1}\\sum\\limits_{i=1}^n(x_i-\\bar{x})(y_i-\\bar{y}) $$"
   ]
  },
  {
   "cell_type": "code",
   "execution_count": null,
   "metadata": {},
   "outputs": [],
   "source": [
    "data.cov()"
   ]
  },
  {
   "cell_type": "markdown",
   "metadata": {},
   "source": [
    "As you can see, the correlation and covariance always have the same sign which shows the tendency in the linear relationship between variables."
   ]
  },
  {
   "cell_type": "markdown",
   "metadata": {},
   "source": [
    "Let's now consider more closely the correlation between `Height` and `Weight` of the people from experiments."
   ]
  },
  {
   "cell_type": "code",
   "execution_count": null,
   "metadata": {},
   "outputs": [],
   "source": [
    "import scipy \n",
    "scipy.stats.pearsonr(data['Height'], data['Weight'])[0]"
   ]
  },
  {
   "cell_type": "code",
   "execution_count": null,
   "metadata": {},
   "outputs": [],
   "source": [
    "plt.scatter(data['Height'], data['Weight']);"
   ]
  },
  {
   "cell_type": "markdown",
   "metadata": {},
   "source": [
    "### Exercise 2\n",
    "\n",
    "Let's compare the difference in the definition of **correlation** from the signal processing point of view and from the point of view of statistics.\n",
    "\n",
    "1. Compute the correlation from `scipy.signal` package of demeaned signals. Divide by the number of observations - 1.\n",
    "2. Compute the covariance using `numpy` or any other package. Compare results"
   ]
  },
  {
   "cell_type": "code",
   "execution_count": null,
   "metadata": {
    "collapsed": true
   },
   "outputs": [],
   "source": [
    "# compute demeaned correlation divided by n-1 using scipy.signal"
   ]
  },
  {
   "cell_type": "code",
   "execution_count": null,
   "metadata": {
    "collapsed": true
   },
   "outputs": [],
   "source": [
    "# compute covariance using numpy"
   ]
  },
  {
   "cell_type": "markdown",
   "metadata": {},
   "source": [
    "### Exercise 3\n",
    "\n",
    "1. Implement the computation of Pearson correlation coefficient. \n",
    "1. Implement calculation of **t-statistics**, and **p-value** for the correlation coefficient. Add p-value to return value of the function.\n",
    "1. Compare results with `scipy` implementation for `Height` and `Weight`."
   ]
  },
  {
   "cell_type": "code",
   "execution_count": null,
   "metadata": {
    "collapsed": true
   },
   "outputs": [],
   "source": [
    "def pearsonr(x, y):\n",
    "#     your code here\n",
    "    return 0.0, 0.05"
   ]
  }
 ],
 "metadata": {
  "kernelspec": {
   "display_name": "Python [default]",
   "language": "python",
   "name": "python2"
  },
  "language_info": {
   "codemirror_mode": {
    "name": "ipython",
    "version": 2
   },
   "file_extension": ".py",
   "mimetype": "text/x-python",
   "name": "python",
   "nbconvert_exporter": "python",
   "pygments_lexer": "ipython2",
   "version": "2.7.13"
  }
 },
 "nbformat": 4,
 "nbformat_minor": 2
}
