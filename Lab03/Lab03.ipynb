{
 "cells": [
  {
   "cell_type": "markdown",
   "metadata": {},
   "source": [
    "# Lab 03\n",
    "\n",
    "## Statistical power of the test\n"
   ]
  },
  {
   "cell_type": "markdown",
   "metadata": {},
   "source": [
    "Let's consider the following example.\n",
    "\n",
    "The taxi company claims that the average wait time for a taxi is 7 minutes with standard deviation 3.\n",
    "Their competitor made an independent experiment with 100 participants and discovered that the averate wait time of the experiment was 14. \n",
    "\n",
    "Can the competitor company claim that they have an evidence that the average wait time is bigger than the reported one?"
   ]
  },
  {
   "cell_type": "code",
   "execution_count": 1,
   "metadata": {
    "collapsed": false
   },
   "outputs": [],
   "source": [
    "#from plotly import __version__\n",
    "#from plotly.offline import init_notebook_mode, plot, iplot\n",
    "import numpy as np \n",
    "from scipy.stats import norm\n",
    "\n",
    "#init_notebook_mode(connected=True) # inline mode for plotly\n",
    "\n",
    "h0_mean = 7 # H0 hypothesis\n",
    "sigma = 3 # we suppose that we know sigma\n",
    "n = 100 # sample size\n",
    "start = 6; end = 10 # start and end of the considered values of mean\n",
    "sigma_ztest = sigma/np.sqrt(n) # standard deviation of the distribution of means\n",
    "sign_level_arg = norm.ppf(.95, h0_mean, sigma_ztest) # the critical value for the significance level 0.05\n",
    "x1 = np.append(np.arange(start, sign_level_arg, 0.05), [sign_level_arg]) # x argument for the uncolored part of plot\n",
    "x2 = np.arange(sign_level_arg, end, 0.05) # x argument for colored part\n",
    "step_range = np.arange(h0_mean,end,0.1)\n",
    "\n",
    "# creating scatterplot for each of the steps (in slider)\n",
    "data = [dict(visible = False, line=dict(color='00CED1', width=6), hoverinfo='none',\n",
    "            x = x1, y = norm.pdf(x1,step,sigma_ztest), name = 'True') for step in step_range] + [\n",
    "        dict(visible = False, line=dict(color='00CED1', width=6), hoverinfo='none', \n",
    "             fill='tozeroy', showlegend=False,\n",
    "            x = x2, y = norm.pdf(x2,step,sigma_ztest), name='') for step in step_range]+ [\n",
    "        dict(visible = True, line=dict(color='red', width=6), hoverinfo='none',\n",
    "            x = x1, y = norm.pdf(x1,h0_mean,sigma_ztest), name='H0'),\n",
    "        dict(visible = True, line=dict(color='red', width=6), hoverinfo='none',\n",
    "            fill='tozeroy',showlegend=False,\n",
    "            x = x2, y = norm.pdf(x2,h0_mean,sigma_ztest), name = '')]\n",
    "\n",
    "# number of steps\n",
    "size = (len(data)-2)\n",
    "# step 10 is visible\n",
    "data[10]['visible'] = True\n",
    "data[10+size/2]['visible'] = True\n",
    "\n",
    "steps = []\n",
    "\n",
    "for i in range(0, size/2):\n",
    "    step = dict(\n",
    "        method = 'restyle',\n",
    "        args = ['visible', [False] * (len(data)-2) + [True]*2],\n",
    "        label = ['%.2f'%t for t in step_range][i]\n",
    "    )\n",
    "    step['args'][1][i] = True # Toggle i'th trace to \"visible\"\n",
    "    step['args'][1][i+size/2] = True \n",
    "    steps.append(step)\n",
    "\n",
    "sliders = [dict(\n",
    "    active = 10,\n",
    "    currentvalue = {\"prefix\": \"True mean: \"},\n",
    "    pad = {\"t\": 50},\n",
    "    steps = steps\n",
    ")]\n",
    "layout = dict(sliders=sliders, annotations=[\n",
    "        dict(x=1,y=0.01,xref='x',yref='y', text='alpha',showarrow=True,arrowhead=5,ax=-40,ay=-40)\n",
    "    ], xaxis=dict(range=[start,end]))\n",
    "\n",
    "fig = dict(data=data, layout=layout)\n",
    "\n",
    "#iplot(fig, filename='Sine Wave Slider')"
   ]
  },
  {
   "cell_type": "markdown",
   "metadata": {},
   "source": [
    "### Exercise 1\n",
    "\n",
    "For the example above plot the power function of the z-test with significance level = 0.05.\n",
    "(Using `matplotlib` not `plotly`) Take the range of x from 7.0 to 10.0."
   ]
  },
  {
   "cell_type": "code",
   "execution_count": 2,
   "metadata": {
    "collapsed": false
   },
   "outputs": [
    {
     "data": {
      "image/png": "[encoded data removed]",
      "text/plain": [
       "<matplotlib.figure.Figure at 0x7fdb28e31f90>"
      ]
     },
     "metadata": {},
     "output_type": "display_data"
    }
   ],
   "source": [
    "import matplotlib.pyplot as plt\n",
    "%matplotlib inline\n",
    "from statsmodels.stats import power\n",
    "x = np.arange(7.0, 10.0, 0.01)\n",
    "es = (x - h0_mean) / sigma\n",
    "z = power.tt_solve_power(effect_size=es, nobs=n, alpha=0.05, power=None)\n",
    "plt.plot(x, z);"
   ]
  },
  {
   "cell_type": "markdown",
   "metadata": {
    "collapsed": true
   },
   "source": [
    "## Paired vs non-paired test\n",
    "- Independent samples\n",
    "\n",
    "The non-paired t-test is applicable when the samples are independent i.e. they are drawn from *different* populations. The test can check whether the means of two distributions are the same.\n",
    "\n",
    "The standard deviation of the difference between independent sample means is computed using the standard deviations of the means of each sample, i.e. $\\sigma_{\\bar{x}_{1,2}} = \\sqrt{\\sigma_{\\bar{x}_1}+\\sigma_{\\bar{x}_2}} = \\sqrt{\\frac{\\sigma_1^2}{n_1}+\\frac{\\sigma_2^2}{n_2}}$ , where $n_1$ and $n_2$ are sample sizes.\n",
    "\n",
    "Then the $t$-statistics is calculated as following:\n",
    "$$\n",
    "t=\\frac{\\mu_1-\\mu_2}{\\sqrt{\\frac{\\sigma_1^2}{n_1}+\\frac{\\sigma_2^2}{n_2}}}\n",
    "$$\n",
    "The number of degrees of freedom:\n",
    "\n",
    "$df = (n_1-1) + (n_2-1)= n_1+n_2-2$\n",
    "\n",
    "\n",
    "- Dependent samples\n",
    "\n",
    "The paired t-test is applied when the samples are dependent i.e. the variable under the test is the *difference* between 2 samples. These samples can be repeated measures taken on the same subjects. For example, two math tests on the students of the same class.\n",
    "\n",
    "$$t=\\frac{\\mu_{delta}}{\\frac{\\sigma^2}{n}}$$\n",
    "\n",
    "The number of degrees of freedom equals to the number of pairs minus 1.\n",
    "$df = n-1$\n"
   ]
  },
  {
   "cell_type": "markdown",
   "metadata": {},
   "source": [
    "### Statistical test of authorship\n",
    "In 1861 10 letters were published in the New Orleans Daily Crescent signed \"Quintus Curtius Snodgrass\". There was a hypothesis that they were written by Mark Twain. \n",
    "\n",
    "In 1963 American Statistical Association Journal published a study exploring the authorship of those letters.\n",
    "The researchers applied 3 types of methods: visual exploration, $\\chi^2$ test of goodness and two-sampled $t$-test. Let's consider the latter. \n",
    "\n",
    "The tests were limited to 2,3, or 4 letter words (about 60% of the total).\n",
    "There were 2 samples: controls (from real Mark Twain's essays) and studies (from 10 letters of Quintus Curtius Snodgrass - QCS).\n",
    "For each of 2 samples 3 variables were measured: the frequencies of 2,3, and 4 letter words."
   ]
  },
  {
   "cell_type": "markdown",
   "metadata": {},
   "source": [
    "### Exercise 2\n",
    "Test whether there is enough evidence to claim that the 10 letters author is not Mark Twain.\n",
    "\n",
    "Perform 2 sampled t-test and draw conclusions.\n",
    "\n",
    "1. Read csv from data/qcs.csv (with `pandas` or without). The controls has type column equal to 1, studies (QCS samples) - 0.\n",
    "1. Perform 3 tests (for each variable measured).\n",
    "1. Draw conclusions (as a text cell or in comments)."
   ]
  },
  {
   "cell_type": "code",
   "execution_count": 4,
   "metadata": {
    "collapsed": false
   },
   "outputs": [
    {
     "name": "stdout",
     "output_type": "stream",
     "text": [
      "                                name  2-letter  3-letter  4-letter  type\n",
      "0             Sergeant Fathom Letter     0.214     0.225     0.187     1\n",
      "1              Madame Carpell Letter     0.152     0.262     0.212     1\n",
      "2                    TE First Letter     0.176     0.217     0.196     1\n",
      "3                   TE Second Letter     0.196     0.240     0.179     1\n",
      "4                    TE Third Letter     0.190     0.230     0.189     1\n",
      "5                   TE Fourth Letter     0.190     0.229     0.208     1\n",
      "6    First Innocents Abroad Letter I     0.172     0.235     0.195     1\n",
      "7   First Innocents Abroad Letter II     0.161     0.217     0.185     1\n",
      "8                              QCS I     0.204     0.209     0.176     0\n",
      "9                             QCS II     0.172     0.205     0.170     0\n",
      "10                           QCS III     0.212     0.196     0.163     0\n",
      "11                            QCS IV     0.210     0.210     0.159     0\n",
      "12                             QCS V     0.183     0.202     0.168     0\n",
      "13                            QCS VI     0.225     0.207     0.172     0\n",
      "14                           QCS VII     0.192     0.224     0.181     0\n",
      "15                          QCS VIII     0.213     0.223     0.167     0\n",
      "16                            QCS IX     0.227     0.220     0.181     0\n",
      "17                             QCS X     0.192     0.201     0.220     0\n"
     ]
    }
   ],
   "source": [
    "# read the data\n",
    "import pandas as pd\n",
    "data = pd.read_csv('qcs.csv')\n",
    "print(data)"
   ]
  },
  {
   "cell_type": "code",
   "execution_count": 7,
   "metadata": {
    "collapsed": false
   },
   "outputs": [
    {
     "name": "stdout",
     "output_type": "stream",
     "text": [
      "[-2.4120343429666073, 3.8781376258607807, 2.574166080807641]\n",
      "[0.028234422882915392, 0.0013338206615241036, 0.02038151793844899]\n"
     ]
    }
   ],
   "source": [
    "# perform 3 tests\n",
    "from scipy.stats import ttest_ind\n",
    "n1 = data[data['type'] == 1].shape[0]\n",
    "n2 = data[data['type'] == 0].shape[0]\n",
    "\n",
    "a = []\n",
    "b = []\n",
    "\n",
    "for j in ['2-letter', '3-letter', '4-letter']:\n",
    "    a.append(data[data['type'] == 1][j])\n",
    "    b.append(data[data['type'] == 0][j])\n",
    "\n",
    "t_arr = []\n",
    "p_arr = []\n",
    "for i in [0, 1, 2]:\n",
    "    t, p = ttest_ind(a[i], b[i], equal_var=True)\n",
    "    t_arr.append(t)\n",
    "    p_arr.append(p)\n",
    "\n",
    "print(t_arr)    \n",
    "print(p_arr)"
   ]
  },
  {
   "cell_type": "code",
   "execution_count": 8,
   "metadata": {
    "collapsed": false
   },
   "outputs": [
    {
     "data": {
      "text/plain": [
       "True"
      ]
     },
     "execution_count": 8,
     "metadata": {},
     "output_type": "execute_result"
    }
   ],
   "source": [
    "# make conclusions\n",
    "np.mean(p_arr) < 0.05"
   ]
  },
  {
   "cell_type": "markdown",
   "metadata": {},
   "source": [
    "### Arachnophobia invesigation\n",
    "\n",
    "Twelve participants were a part of arachnophobia (fear of spiders) research. Their level of anxiety was measured 2 times: 1) when they were exposed to the picture of the spider and 2) to the real spider.\n",
    "\n",
    "The researcher hypothesis was that the real spider will cause more anxiety than the picture. Perform a t-test to check whether we can prove hypothesis with the given data."
   ]
  },
  {
   "cell_type": "markdown",
   "metadata": {},
   "source": [
    "### Exercise 3\n",
    "1. Read the data from 'data/arachn.csv'\n",
    "2. Perform a t-test to test whether real spider causes more anxiety than the picture.\n",
    "3. Report t-statistics and p-value"
   ]
  },
  {
   "cell_type": "code",
   "execution_count": 15,
   "metadata": {
    "collapsed": false
   },
   "outputs": [
    {
     "data": {
      "text/html": [
       "<div>\n",
       "<table border=\"1\" class=\"dataframe\">\n",
       "  <thead>\n",
       "    <tr style=\"text-align: right;\">\n",
       "      <th></th>\n",
       "      <th>id</th>\n",
       "      <th>real</th>\n",
       "      <th>picture</th>\n",
       "    </tr>\n",
       "  </thead>\n",
       "  <tbody>\n",
       "    <tr>\n",
       "      <th>0</th>\n",
       "      <td>1</td>\n",
       "      <td>30</td>\n",
       "      <td>40</td>\n",
       "    </tr>\n",
       "    <tr>\n",
       "      <th>1</th>\n",
       "      <td>2</td>\n",
       "      <td>35</td>\n",
       "      <td>35</td>\n",
       "    </tr>\n",
       "    <tr>\n",
       "      <th>2</th>\n",
       "      <td>3</td>\n",
       "      <td>45</td>\n",
       "      <td>50</td>\n",
       "    </tr>\n",
       "    <tr>\n",
       "      <th>3</th>\n",
       "      <td>4</td>\n",
       "      <td>40</td>\n",
       "      <td>55</td>\n",
       "    </tr>\n",
       "    <tr>\n",
       "      <th>4</th>\n",
       "      <td>5</td>\n",
       "      <td>50</td>\n",
       "      <td>65</td>\n",
       "    </tr>\n",
       "    <tr>\n",
       "      <th>5</th>\n",
       "      <td>6</td>\n",
       "      <td>35</td>\n",
       "      <td>55</td>\n",
       "    </tr>\n",
       "    <tr>\n",
       "      <th>6</th>\n",
       "      <td>7</td>\n",
       "      <td>55</td>\n",
       "      <td>50</td>\n",
       "    </tr>\n",
       "    <tr>\n",
       "      <th>7</th>\n",
       "      <td>8</td>\n",
       "      <td>25</td>\n",
       "      <td>35</td>\n",
       "    </tr>\n",
       "    <tr>\n",
       "      <th>8</th>\n",
       "      <td>9</td>\n",
       "      <td>30</td>\n",
       "      <td>30</td>\n",
       "    </tr>\n",
       "    <tr>\n",
       "      <th>9</th>\n",
       "      <td>10</td>\n",
       "      <td>45</td>\n",
       "      <td>50</td>\n",
       "    </tr>\n",
       "    <tr>\n",
       "      <th>10</th>\n",
       "      <td>11</td>\n",
       "      <td>40</td>\n",
       "      <td>60</td>\n",
       "    </tr>\n",
       "    <tr>\n",
       "      <th>11</th>\n",
       "      <td>12</td>\n",
       "      <td>50</td>\n",
       "      <td>39</td>\n",
       "    </tr>\n",
       "  </tbody>\n",
       "</table>\n",
       "</div>"
      ],
      "text/plain": [
       "    id  real  picture\n",
       "0    1    30       40\n",
       "1    2    35       35\n",
       "2    3    45       50\n",
       "3    4    40       55\n",
       "4    5    50       65\n",
       "5    6    35       55\n",
       "6    7    55       50\n",
       "7    8    25       35\n",
       "8    9    30       30\n",
       "9   10    45       50\n",
       "10  11    40       60\n",
       "11  12    50       39"
      ]
     },
     "execution_count": 15,
     "metadata": {},
     "output_type": "execute_result"
    }
   ],
   "source": [
    "data = pd.read_csv('arachn.csv')\n",
    "data"
   ]
  },
  {
   "cell_type": "code",
   "execution_count": 16,
   "metadata": {
    "collapsed": false
   },
   "outputs": [
    {
     "data": {
      "text/plain": [
       "True"
      ]
     },
     "execution_count": 16,
     "metadata": {},
     "output_type": "execute_result"
    }
   ],
   "source": [
    "a = data['real']\n",
    "b = data['picture']\n",
    "\n",
    "t, p = ttest_ind(a, b, equal_var=True)\n",
    "\n",
    "p > 0.05"
   ]
  },
  {
   "cell_type": "code",
   "execution_count": null,
   "metadata": {
    "collapsed": true
   },
   "outputs": [],
   "source": []
  }
 ],
 "metadata": {
  "kernelspec": {
   "display_name": "Python 2",
   "language": "python",
   "name": "python2"
  },
  "language_info": {
   "codemirror_mode": {
    "name": "ipython",
    "version": 2
   },
   "file_extension": ".py",
   "mimetype": "text/x-python",
   "name": "python",
   "nbconvert_exporter": "python",
   "pygments_lexer": "ipython2",
   "version": "2.7.12"
  }
 },
 "nbformat": 4,
 "nbformat_minor": 2
}
